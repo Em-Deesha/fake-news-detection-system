{
  "cells": [
    {
      "cell_type": "code",
      "execution_count": null,
      "metadata": {
        "colab": {
          "base_uri": "https://localhost:8080/"
        },
        "id": "8ZmKtkGNMBJu",
        "outputId": "d9c8e1eb-d171-498b-a3d0-210623d68d89"
      },
      "outputs": [
        {
          "name": "stderr",
          "output_type": "stream",
          "text": [
            "[nltk_data] Downloading package stopwords to /root/nltk_data...\n",
            "[nltk_data]   Package stopwords is already up-to-date!\n",
            "[nltk_data] Downloading package wordnet to /root/nltk_data...\n",
            "[nltk_data]   Package wordnet is already up-to-date!\n"
          ]
        },
        {
          "name": "stdout",
          "output_type": "stream",
          "text": [
            "Model Accuracy: 0.5125233146815881\n",
            "Enter the news article: Pope Francis used his annual Christmas Day message to rebuke Donald Trump without even mentioning his name. The Pope delivered his message just days after members of the United Nations condemned Trump s move to recognize Jerusalem as the capital of Israel. The Pontiff prayed on Monday for the  peaceful coexistence of two states within mutually agreed and internationally recognized borders. We see Jesus in the children of the Middle East who continue to suffer because of growing tensions between Israelis and Palestinians,  Francis said.  On this festive day, let us ask the Lord for peace for Jerusalem and for all the Holy Land. Let us pray that the will to resume dialogue may prevail between the parties and that a negotiated solution can finally be reached. The Pope went on to plead for acceptance of refugees who have been forced from their homes, and that is an issue Trump continues to fight against. Francis used Jesus for which there was  no place in the inn  as an analogy. Today, as the winds of war are blowing in our world and an outdated model of development continues to produce human, societal and environmental decline, Christmas invites us to focus on the sign of the Child and to recognize him in the faces of little children, especially those for whom, like Jesus,  there is no place in the inn,  he said. Jesus knows well the pain of not being welcomed and how hard it is not to have a place to lay one s head,  he added.  May our hearts not be closed as they were in the homes of Bethlehem. The Pope said that Mary and Joseph were immigrants who struggled to find a safe place to stay in Bethlehem. They had to leave their people, their home, and their land,  Francis said.  This was no comfortable or easy journey for a young couple about to have a child.   At heart, they were full of hope and expectation because of the child about to be born; yet their steps were weighed down by the uncertainties and dangers that attend those who have to leave their home behind. So many other footsteps are hidden in the footsteps of Joseph and Mary,  Francis said Sunday. We see the tracks of entire families forced to set out in our own day. We see the tracks of millions of persons who do not choose to go away, but driven from their land, leave behind their dear ones. Amen to that.Photo by Christopher Furlong/Getty Images.\n",
            "\n",
            "Prediction: Fake News\n"
          ]
        }
      ],
      "source": [
        "import pandas as pd\n",
        "import nltk\n",
        "import string\n",
        "import joblib\n",
        "import csv\n",
        "from nltk.corpus import stopwords\n",
        "from nltk.stem import PorterStemmer, WordNetLemmatizer\n",
        "from sklearn.model_selection import train_test_split\n",
        "from sklearn.feature_extraction.text import TfidfVectorizer\n",
        "from sklearn.ensemble import RandomForestClassifier\n",
        "from sklearn.metrics import accuracy_score\n",
        "\n",
        "nltk.download('stopwords')\n",
        "nltk.download('wordnet')\n",
        "\n",
        "stop_words = set(stopwords.words('english'))\n",
        "stemmer = PorterStemmer()\n",
        "lemmatizer = WordNetLemmatizer()\n",
        "\n",
        "#function of preprocessing\n",
        "def preprocess_text(text):\n",
        "    \"\"\"Remove stopwords, punctuation, and apply stemming & lemmatization.\"\"\"\n",
        "    if not isinstance(text, str):  # convert nan or numbers to empty string\n",
        "        text = \"\"\n",
        "    text = text.lower()\n",
        "    text = text.translate(str.maketrans('', '', string.punctuation))\n",
        "    words = text.split()\n",
        "    words = [lemmatizer.lemmatize(stemmer.stem(word)) for word in words if word not in stop_words]\n",
        "    return \" \".join(words)\n",
        "\n",
        "true_df = pd.read_csv('True.csv', quoting=csv.QUOTE_NONE, encoding='utf-8', on_bad_lines='skip')\n",
        "fake_df = pd.read_csv('Fake.csv', quoting=csv.QUOTE_NONE, encoding='utf-8', on_bad_lines='skip')\n",
        "\n",
        "# Labeling \n",
        "true_df['label'] = 0  \n",
        "fake_df['label'] = 1 \n",
        "\n",
        "# combine datasets\n",
        "df = pd.concat([true_df, fake_df], ignore_index=True)\n",
        "\n",
        "#  missing values\n",
        "df['text'] = df['text'].fillna('').astype(str)\n",
        "\n",
        "df['text'] = df['text'].apply(preprocess_text)\n",
        "\n",
        "X_train, X_test, y_train, y_test = train_test_split(df['text'], df['label'], test_size=0.2, random_state=42)\n",
        "\n",
        "# convert from text to numerbers\n",
        "vectorizer = TfidfVectorizer()\n",
        "X_train_tfidf = vectorizer.fit_transform(X_train)\n",
        "X_test_tfidf = vectorizer.transform(X_test)\n",
        "\n",
        "#  random forest model\n",
        "model = RandomForestClassifier(n_estimators=100)\n",
        "model.fit(X_train_tfidf, y_train)\n",
        "\n",
        "accuracy = accuracy_score(y_test, model.predict(X_test_tfidf))\n",
        "print(f'Model Accuracy: {accuracy}')\n",
        "\n",
        "joblib.dump(model, 'model.pkl')\n",
        "joblib.dump(vectorizer, 'vectorizer.pkl')\n",
        "\n",
        "#saving model to use again\n",
        "model = joblib.load('model.pkl')\n",
        "vectorizer = joblib.load('vectorizer.pkl')\n",
        "\n",
        "#function of prediction\n",
        "def predict_news(news_text):\n",
        "    \"\"\"Predicts if the news is real or fake.\"\"\"\n",
        "    processed_text = preprocess_text(news_text) \n",
        "    text_tfidf = vectorizer.transform([processed_text])  \n",
        "    prediction = model.predict(text_tfidf)  \n",
        "\n",
        "    return \"Fake News\" if prediction[0] == 1 else \"Real News\"\n",
        "\n",
        "#user input\n",
        "news_article = input(\"Enter the news article: \")\n",
        "result = predict_news(news_article)\n",
        "print(\"\\nPrediction:\", result)\n"
      ]
    }
  ],
  "metadata": {
    "colab": {
      "provenance": []
    },
    "kernelspec": {
      "display_name": "Python 3",
      "name": "python3"
    },
    "language_info": {
      "name": "python"
    }
  },
  "nbformat": 4,
  "nbformat_minor": 0
}
